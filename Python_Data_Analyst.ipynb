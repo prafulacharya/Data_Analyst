{
  "nbformat": 4,
  "nbformat_minor": 0,
  "metadata": {
    "colab": {
      "name": "Python_Data_Analyst.ipynb",
      "provenance": [],
      "collapsed_sections": [],
      "authorship_tag": "ABX9TyMon9NQJ/1YOSpTRXfoFQ3a",
      "include_colab_link": true
    },
    "kernelspec": {
      "name": "python3",
      "display_name": "Python 3"
    },
    "language_info": {
      "name": "python"
    }
  },
  "cells": [
    {
      "cell_type": "markdown",
      "metadata": {
        "id": "view-in-github",
        "colab_type": "text"
      },
      "source": [
        "<a href=\"https://colab.research.google.com/github/prafulacharya/Data_Analyst/blob/main/Python_Data_Analyst.ipynb\" target=\"_parent\"><img src=\"https://colab.research.google.com/assets/colab-badge.svg\" alt=\"Open In Colab\"/></a>"
      ]
    },
    {
      "cell_type": "markdown",
      "source": [
        "Analyzing Numerical Data with NumPy"
      ],
      "metadata": {
        "id": "IjWy7Hvnib8h"
      }
    },
    {
      "cell_type": "markdown",
      "source": [
        "Creating NumPy Array #dimentions-->Rank "
      ],
      "metadata": {
        "id": "B5_PkoCrj2sq"
      }
    },
    {
      "cell_type": "code",
      "source": [
        "import numpy as np\n",
        "#create an array with 4 elements\n",
        "b = np.empty(4, dtype = int)\n",
        "print(\"Matrix b : \\n\", b)\n",
        "\n",
        "#create an array with 2*2 rank \n",
        "a = np.empty([2, 2], dtype = int)\n",
        "print(\"\\nMatrix a : \\n\", a)\n",
        "   \n",
        "c = np.empty([3, 3])\n",
        "print(\"\\nMatrix c : \\n\", c)\n",
        "\n",
        "#if your using multiple print statement then use \"\\n\" for line space"
      ],
      "metadata": {
        "colab": {
          "base_uri": "https://localhost:8080/"
        },
        "id": "yKKLc4AnifPW",
        "outputId": "1aa3f8d5-36f1-4cdf-c571-e488584b6f4b"
      },
      "execution_count": null,
      "outputs": [
        {
          "output_type": "stream",
          "name": "stdout",
          "text": [
            "Matrix b : \n",
            " [4607182418800017408 4607182418800017408 4607182418800017408\n",
            "                   0]\n",
            "\n",
            "Matrix a : \n",
            " [[    34928192 459561500672]\n",
            " [433791697012            0]]\n",
            "[[1.5952194e-316 0.0000000e+000 0.0000000e+000]\n",
            " [0.0000000e+000 0.0000000e+000 0.0000000e+000]\n",
            " [0.0000000e+000 0.0000000e+000 0.0000000e+000]]\n"
          ]
        }
      ]
    },
    {
      "cell_type": "markdown",
      "source": [
        " Create Array using numpy.zeros , 1D, 2D, 3D"
      ],
      "metadata": {
        "id": "kBB1zq38mmIV"
      }
    },
    {
      "cell_type": "code",
      "source": [
        "import numpy as np\n",
        "   \n",
        "b = np.zeros(2, dtype = int)\n",
        "print(\"Matrix b : \\n\", b)\n",
        "\n",
        "#1D array -\n",
        "x=np.array([1,2,3,4])\n",
        "print(x)\n",
        "#2D array - \n",
        "y=np.array([[1,2],[3,4]])\n",
        "print(y.shape[0])\n",
        "#3D array\n",
        "z=np.array([\n",
        "            [[1,2],[3,4]],\n",
        "            [[4,5],[6,7]],\n",
        "            [[8,9],[10,11]]\n",
        "            ])\n",
        "print(z)\n",
        "   \n"
      ],
      "metadata": {
        "colab": {
          "base_uri": "https://localhost:8080/"
        },
        "id": "5yDJSZmcmdi1",
        "outputId": "0b06a0c7-5581-40f5-dcc1-80a5186b4d15"
      },
      "execution_count": null,
      "outputs": [
        {
          "output_type": "stream",
          "name": "stdout",
          "text": [
            "Matrix b : \n",
            " [0 0]\n",
            "[1 2 3 4]\n",
            "2\n",
            "[[[ 1  2]\n",
            "  [ 3  4]]\n",
            "\n",
            " [[ 4  5]\n",
            "  [ 6  7]]\n",
            "\n",
            " [[ 8  9]\n",
            "  [10 11]]]\n"
          ]
        }
      ]
    },
    {
      "cell_type": "markdown",
      "source": [
        "Operations on Numpy Arrays"
      ],
      "metadata": {
        "id": "y-ASn31Qm0jJ"
      }
    },
    {
      "cell_type": "code",
      "source": [
        "import numpy as np\n",
        "a=np.array([1,2,3,4])\n",
        "b=np.array([6,7,8,9])\n",
        "print(\"\\nAddtion:\", a+b)\n",
        "print(np.add(a,b))\n",
        "\n",
        "import numpy as np\n",
        "  \n",
        "# Defining both the matrices\n",
        "a = np.array([5, 72, 13, 100])\n",
        "b = np.array([2, 5, 10, 30])\n",
        "  \n",
        "# Performing addition using arithmetic operator\n",
        "add_ans = a+b\n",
        "print(add_ans)\n",
        "  \n",
        "# Performing addition using numpy function\n",
        "add_ans = np.add(a, b)\n",
        "print(add_ans)"
      ],
      "metadata": {
        "colab": {
          "base_uri": "https://localhost:8080/"
        },
        "id": "FYx9xgvymztV",
        "outputId": "08d914f8-d279-4f3c-9bb9-5cdb0516f322"
      },
      "execution_count": null,
      "outputs": [
        {
          "output_type": "stream",
          "name": "stdout",
          "text": [
            "\n",
            "Addtion: [ 7  9 11 13]\n",
            "[ 7  9 11 13]\n",
            "[  7  77  23 130]\n",
            "[  7  77  23 130]\n"
          ]
        }
      ]
    },
    {
      "cell_type": "markdown",
      "source": [
        "NumPy Array Indexing"
      ],
      "metadata": {
        "id": "u4iASgxAoS0u"
      }
    },
    {
      "cell_type": "code",
      "source": [
        "# Python program to demonstrate \n",
        "# the use of index arrays.\n",
        "import numpy as np\n",
        "   \n",
        "# Create a sequence of integers from\n",
        "# 10 to 1 with a step of -2\n",
        "a = np.arange(10, 1, -2) \n",
        "print(\"\\n A sequential array with a negative step: \\n\",a)\n",
        "   \n",
        "# Indexes are specified inside the np.array method.\n",
        "newarr = a[np.array([3, 1, 2 ])]\n",
        "print(\"\\n Elements at these indices are:\\n\",newarr)"
      ],
      "metadata": {
        "colab": {
          "base_uri": "https://localhost:8080/"
        },
        "id": "8MLjJ-cOoU0r",
        "outputId": "ffc0939e-c7ed-4948-c69e-3c19c5279b0b"
      },
      "execution_count": null,
      "outputs": [
        {
          "output_type": "stream",
          "name": "stdout",
          "text": [
            "\n",
            " A sequential array with a negative step: \n",
            " [10  8  6  4  2]\n",
            "\n",
            " Elements at these indices are:\n",
            " [4 8 6]\n"
          ]
        }
      ]
    },
    {
      "cell_type": "markdown",
      "source": [
        "NumPy Array Slicing"
      ],
      "metadata": {
        "id": "LBOKJyFx4oTJ"
      }
    },
    {
      "cell_type": "code",
      "source": [
        "\n",
        "# Python program for basic slicing.\n",
        "import numpy as np\n",
        "  \n",
        "# Arrange elements from 0 to 19\n",
        "a = np.arange(20)\n",
        "print(\"\\n Array is:\\n \",a)\n",
        "  \n",
        "# a[start:stop:step]\n",
        "print(\"\\n a[-8:17:1] = \",a[-8:17:1])\n",
        "  \n",
        "# The : operator means all elements till the end.\n",
        "print(\"\\n a[10:] = \",a[10:])"
      ],
      "metadata": {
        "colab": {
          "base_uri": "https://localhost:8080/"
        },
        "id": "BF4Nn4QZ4OQ_",
        "outputId": "1296afea-9f85-4567-9b12-19f38ad3d738"
      },
      "execution_count": null,
      "outputs": [
        {
          "output_type": "stream",
          "name": "stdout",
          "text": [
            "\n",
            " Array is:\n",
            "  [ 0  1  2  3  4  5  6  7  8  9 10 11 12 13 14 15 16 17 18 19]\n",
            "\n",
            " a[-8:17:1] =  [12 13 14 15 16]\n",
            "\n",
            " a[10:] =  [10 11 12 13 14 15 16 17 18 19]\n"
          ]
        }
      ]
    },
    {
      "cell_type": "markdown",
      "source": [
        "Ellipsis can also be used along with basic slicing. "
      ],
      "metadata": {
        "id": "bVh7R6e041eF"
      }
    },
    {
      "cell_type": "code",
      "source": [
        "# Python program for indexing using basic slicing with ellipsis\n",
        "import numpy as np\n",
        "  \n",
        "# A 3 dimensional array.\n",
        "b = np.array([[[1, 2, 3],[4, 5, 6]],\n",
        "            [[7, 8, 9],[10, 11, 12]]])\n",
        "  \n",
        "print(b[...,1])"
      ],
      "metadata": {
        "colab": {
          "base_uri": "https://localhost:8080/"
        },
        "id": "dbQcrzW75YIG",
        "outputId": "a0822d3e-c2aa-47fc-9580-5cbb663f2c46"
      },
      "execution_count": null,
      "outputs": [
        {
          "output_type": "stream",
          "name": "stdout",
          "text": [
            "[[ 2  5]\n",
            " [ 8 11]]\n"
          ]
        }
      ]
    },
    {
      "cell_type": "markdown",
      "source": [
        "NumPy Array Broadcasting\n",
        "\n",
        "#Shape- Number of elements in each dimentions"
      ],
      "metadata": {
        "id": "7ad-giqnE4-O"
      }
    },
    {
      "cell_type": "code",
      "source": [
        "a=np.zeros([1,3])\n",
        "print(a)\n",
        "print(a.shape)"
      ],
      "metadata": {
        "colab": {
          "base_uri": "https://localhost:8080/"
        },
        "id": "7yFjcSFXF1cB",
        "outputId": "dd07fdd1-089f-4032-8bd3-a523c0f70c2d"
      },
      "execution_count": null,
      "outputs": [
        {
          "output_type": "stream",
          "name": "stdout",
          "text": [
            "[[0. 0. 0.]]\n",
            "(1, 3)\n"
          ]
        }
      ]
    },
    {
      "cell_type": "markdown",
      "source": [
        "Analyzing Data using Pandas\n",
        "\n",
        "#Pandas generally provide two data structures for manipulating data, \n",
        "Series -Pandas Series is a one-dimensional labelled array  capable of holding data of any type (integer, string, float, python objects. Pandas Series is nothing but a column in an excel sheet.\n",
        "Dataframe -  A Data frame is a two-dimensional data structure, i.e., data is aligned in a tabular fashion in rows and columns."
      ],
      "metadata": {
        "id": "Q3lonyQU_3NY"
      }
    },
    {
      "cell_type": "code",
      "source": [
        "#Creating a series \n",
        "import pandas as pd\n",
        "import numpy as np\n",
        "  \n",
        "  \n",
        "# Creating empty series\n",
        "ser = pd.Series()\n",
        "  \n",
        "print(ser)\n",
        "  \n",
        "# simple array\n",
        "data = np.array(['g', 'e', 'e', 'k', 's'])\n",
        "  \n",
        "ser = pd.Series(data)\n",
        "print(ser)"
      ],
      "metadata": {
        "colab": {
          "base_uri": "https://localhost:8080/"
        },
        "id": "IgeFUUph_4jj",
        "outputId": "8b3985c1-f800-40f9-e477-fa3d09bc7648"
      },
      "execution_count": null,
      "outputs": [
        {
          "output_type": "stream",
          "name": "stdout",
          "text": [
            "Series([], dtype: float64)\n",
            "0    g\n",
            "1    e\n",
            "2    e\n",
            "3    k\n",
            "4    s\n",
            "dtype: object\n"
          ]
        },
        {
          "output_type": "stream",
          "name": "stderr",
          "text": [
            "/usr/local/lib/python3.7/dist-packages/ipykernel_launcher.py:7: DeprecationWarning: The default dtype for empty Series will be 'object' instead of 'float64' in a future version. Specify a dtype explicitly to silence this warning.\n",
            "  import sys\n"
          ]
        }
      ]
    },
    {
      "cell_type": "code",
      "source": [
        "#Creating DataFrame\n",
        "import pandas as pd\n",
        "  \n",
        "# Calling DataFrame constructor\n",
        "df = pd.DataFrame()\n",
        "print(df)\n",
        "  \n",
        "# list of strings\n",
        "lst = ['Geeks', 'For', 'Geeks', 'is',\n",
        "            'portal', 'for', 'Geeks']\n",
        "  \n",
        "# Calling DataFrame constructor on list\n",
        "df = pd.DataFrame(lst)\n",
        "df\n",
        "\n",
        "##Filter data/csv file based on colums usinf filter function \n",
        "#df.filter([\"Species\", \"SepalLengthCm\", \"SepalLengthCm\"]).head()\n",
        "\n",
        "\n",
        "## applying filter function\n",
        "#df.sort_values(by=['SepalLengthCm'])"
      ],
      "metadata": {
        "colab": {
          "base_uri": "https://localhost:8080/",
          "height": 323
        },
        "id": "KWtujieEBeKL",
        "outputId": "ab7e3d69-0b41-422d-d531-ac859692e0e8"
      },
      "execution_count": null,
      "outputs": [
        {
          "output_type": "stream",
          "name": "stdout",
          "text": [
            "Empty DataFrame\n",
            "Columns: []\n",
            "Index: []\n"
          ]
        },
        {
          "output_type": "execute_result",
          "data": {
            "text/plain": [
              "        0\n",
              "0   Geeks\n",
              "1     For\n",
              "2   Geeks\n",
              "3      is\n",
              "4  portal\n",
              "5     for\n",
              "6   Geeks"
            ],
            "text/html": [
              "\n",
              "  <div id=\"df-466cb4cd-3d6f-4473-b3da-ae845f524ca4\">\n",
              "    <div class=\"colab-df-container\">\n",
              "      <div>\n",
              "<style scoped>\n",
              "    .dataframe tbody tr th:only-of-type {\n",
              "        vertical-align: middle;\n",
              "    }\n",
              "\n",
              "    .dataframe tbody tr th {\n",
              "        vertical-align: top;\n",
              "    }\n",
              "\n",
              "    .dataframe thead th {\n",
              "        text-align: right;\n",
              "    }\n",
              "</style>\n",
              "<table border=\"1\" class=\"dataframe\">\n",
              "  <thead>\n",
              "    <tr style=\"text-align: right;\">\n",
              "      <th></th>\n",
              "      <th>0</th>\n",
              "    </tr>\n",
              "  </thead>\n",
              "  <tbody>\n",
              "    <tr>\n",
              "      <th>0</th>\n",
              "      <td>Geeks</td>\n",
              "    </tr>\n",
              "    <tr>\n",
              "      <th>1</th>\n",
              "      <td>For</td>\n",
              "    </tr>\n",
              "    <tr>\n",
              "      <th>2</th>\n",
              "      <td>Geeks</td>\n",
              "    </tr>\n",
              "    <tr>\n",
              "      <th>3</th>\n",
              "      <td>is</td>\n",
              "    </tr>\n",
              "    <tr>\n",
              "      <th>4</th>\n",
              "      <td>portal</td>\n",
              "    </tr>\n",
              "    <tr>\n",
              "      <th>5</th>\n",
              "      <td>for</td>\n",
              "    </tr>\n",
              "    <tr>\n",
              "      <th>6</th>\n",
              "      <td>Geeks</td>\n",
              "    </tr>\n",
              "  </tbody>\n",
              "</table>\n",
              "</div>\n",
              "      <button class=\"colab-df-convert\" onclick=\"convertToInteractive('df-466cb4cd-3d6f-4473-b3da-ae845f524ca4')\"\n",
              "              title=\"Convert this dataframe to an interactive table.\"\n",
              "              style=\"display:none;\">\n",
              "        \n",
              "  <svg xmlns=\"http://www.w3.org/2000/svg\" height=\"24px\"viewBox=\"0 0 24 24\"\n",
              "       width=\"24px\">\n",
              "    <path d=\"M0 0h24v24H0V0z\" fill=\"none\"/>\n",
              "    <path d=\"M18.56 5.44l.94 2.06.94-2.06 2.06-.94-2.06-.94-.94-2.06-.94 2.06-2.06.94zm-11 1L8.5 8.5l.94-2.06 2.06-.94-2.06-.94L8.5 2.5l-.94 2.06-2.06.94zm10 10l.94 2.06.94-2.06 2.06-.94-2.06-.94-.94-2.06-.94 2.06-2.06.94z\"/><path d=\"M17.41 7.96l-1.37-1.37c-.4-.4-.92-.59-1.43-.59-.52 0-1.04.2-1.43.59L10.3 9.45l-7.72 7.72c-.78.78-.78 2.05 0 2.83L4 21.41c.39.39.9.59 1.41.59.51 0 1.02-.2 1.41-.59l7.78-7.78 2.81-2.81c.8-.78.8-2.07 0-2.86zM5.41 20L4 18.59l7.72-7.72 1.47 1.35L5.41 20z\"/>\n",
              "  </svg>\n",
              "      </button>\n",
              "      \n",
              "  <style>\n",
              "    .colab-df-container {\n",
              "      display:flex;\n",
              "      flex-wrap:wrap;\n",
              "      gap: 12px;\n",
              "    }\n",
              "\n",
              "    .colab-df-convert {\n",
              "      background-color: #E8F0FE;\n",
              "      border: none;\n",
              "      border-radius: 50%;\n",
              "      cursor: pointer;\n",
              "      display: none;\n",
              "      fill: #1967D2;\n",
              "      height: 32px;\n",
              "      padding: 0 0 0 0;\n",
              "      width: 32px;\n",
              "    }\n",
              "\n",
              "    .colab-df-convert:hover {\n",
              "      background-color: #E2EBFA;\n",
              "      box-shadow: 0px 1px 2px rgba(60, 64, 67, 0.3), 0px 1px 3px 1px rgba(60, 64, 67, 0.15);\n",
              "      fill: #174EA6;\n",
              "    }\n",
              "\n",
              "    [theme=dark] .colab-df-convert {\n",
              "      background-color: #3B4455;\n",
              "      fill: #D2E3FC;\n",
              "    }\n",
              "\n",
              "    [theme=dark] .colab-df-convert:hover {\n",
              "      background-color: #434B5C;\n",
              "      box-shadow: 0px 1px 3px 1px rgba(0, 0, 0, 0.15);\n",
              "      filter: drop-shadow(0px 1px 2px rgba(0, 0, 0, 0.3));\n",
              "      fill: #FFFFFF;\n",
              "    }\n",
              "  </style>\n",
              "\n",
              "      <script>\n",
              "        const buttonEl =\n",
              "          document.querySelector('#df-466cb4cd-3d6f-4473-b3da-ae845f524ca4 button.colab-df-convert');\n",
              "        buttonEl.style.display =\n",
              "          google.colab.kernel.accessAllowed ? 'block' : 'none';\n",
              "\n",
              "        async function convertToInteractive(key) {\n",
              "          const element = document.querySelector('#df-466cb4cd-3d6f-4473-b3da-ae845f524ca4');\n",
              "          const dataTable =\n",
              "            await google.colab.kernel.invokeFunction('convertToInteractive',\n",
              "                                                     [key], {});\n",
              "          if (!dataTable) return;\n",
              "\n",
              "          const docLinkHtml = 'Like what you see? Visit the ' +\n",
              "            '<a target=\"_blank\" href=https://colab.research.google.com/notebooks/data_table.ipynb>data table notebook</a>'\n",
              "            + ' to learn more about interactive tables.';\n",
              "          element.innerHTML = '';\n",
              "          dataTable['output_type'] = 'display_data';\n",
              "          await google.colab.output.renderOutput(dataTable, element);\n",
              "          const docLink = document.createElement('div');\n",
              "          docLink.innerHTML = docLinkHtml;\n",
              "          element.appendChild(docLink);\n",
              "        }\n",
              "      </script>\n",
              "    </div>\n",
              "  </div>\n",
              "  "
            ]
          },
          "metadata": {},
          "execution_count": 11
        }
      ]
    },
    {
      "cell_type": "markdown",
      "source": [
        "Pandas GroupBy\n",
        "\n",
        "Splitting: It is a process in which we split data into group by applying some conditions on datasets.\n",
        "Applying: It is a process in which we apply a function to each group independently.\n",
        "Combining: It is a process in which we combine different datasets after applying groupby and results into a data structure."
      ],
      "metadata": {
        "id": "oOYgF9ScCFx-"
      }
    },
    {
      "cell_type": "code",
      "source": [
        "# importing pandas module\n",
        "import pandas as pd\n",
        "  \n",
        "# Define a dictionary containing employee data\n",
        "data1 = {'Name': ['Jai', 'Anuj', 'Jai', 'Princi',\n",
        "                  'Gaurav', 'Anuj', 'Princi', 'Abhi'],\n",
        "         'Age': [27, 24, 22, 32,\n",
        "                 33, 36, 27, 32],\n",
        "         'Address': ['Nagpur', 'Kanpur', 'Allahabad', 'Kannuaj',\n",
        "                     'Jaunpur', 'Kanpur', 'Allahabad', 'Aligarh'],\n",
        "         'Qualification': ['Msc', 'MA', 'MCA', 'Phd',\n",
        "                           'B.Tech', 'B.com', 'Msc', 'MA']}\n",
        "  \n",
        "# Convert the dictionary into DataFrame\n",
        "df = pd.DataFrame(data1)\n",
        "  \n",
        "print(\"Original Dataframe\")\n",
        "display(df)\n",
        "  \n",
        "# applying groupby() function to\n",
        "# group the data on Name value.\n",
        "gk = df.groupby('Name')\n",
        "  \n",
        "# Let's print the first entries\n",
        "# in all the groups formed.\n",
        "print(\"After Creating Groups\")\n",
        "gk.first()"
      ],
      "metadata": {
        "colab": {
          "base_uri": "https://localhost:8080/",
          "height": 557
        },
        "id": "PJhDxWlRCG7Q",
        "outputId": "88e3980d-7144-451a-ce52-040567758bd8"
      },
      "execution_count": null,
      "outputs": [
        {
          "output_type": "stream",
          "name": "stdout",
          "text": [
            "Original Dataframe\n"
          ]
        },
        {
          "output_type": "display_data",
          "data": {
            "text/plain": [
              "     Name  Age    Address Qualification\n",
              "0     Jai   27     Nagpur           Msc\n",
              "1    Anuj   24     Kanpur            MA\n",
              "2     Jai   22  Allahabad           MCA\n",
              "3  Princi   32    Kannuaj           Phd\n",
              "4  Gaurav   33    Jaunpur        B.Tech\n",
              "5    Anuj   36     Kanpur         B.com\n",
              "6  Princi   27  Allahabad           Msc\n",
              "7    Abhi   32    Aligarh            MA"
            ],
            "text/html": [
              "\n",
              "  <div id=\"df-5f88c850-c39f-4c57-9579-17d92e004fbc\">\n",
              "    <div class=\"colab-df-container\">\n",
              "      <div>\n",
              "<style scoped>\n",
              "    .dataframe tbody tr th:only-of-type {\n",
              "        vertical-align: middle;\n",
              "    }\n",
              "\n",
              "    .dataframe tbody tr th {\n",
              "        vertical-align: top;\n",
              "    }\n",
              "\n",
              "    .dataframe thead th {\n",
              "        text-align: right;\n",
              "    }\n",
              "</style>\n",
              "<table border=\"1\" class=\"dataframe\">\n",
              "  <thead>\n",
              "    <tr style=\"text-align: right;\">\n",
              "      <th></th>\n",
              "      <th>Name</th>\n",
              "      <th>Age</th>\n",
              "      <th>Address</th>\n",
              "      <th>Qualification</th>\n",
              "    </tr>\n",
              "  </thead>\n",
              "  <tbody>\n",
              "    <tr>\n",
              "      <th>0</th>\n",
              "      <td>Jai</td>\n",
              "      <td>27</td>\n",
              "      <td>Nagpur</td>\n",
              "      <td>Msc</td>\n",
              "    </tr>\n",
              "    <tr>\n",
              "      <th>1</th>\n",
              "      <td>Anuj</td>\n",
              "      <td>24</td>\n",
              "      <td>Kanpur</td>\n",
              "      <td>MA</td>\n",
              "    </tr>\n",
              "    <tr>\n",
              "      <th>2</th>\n",
              "      <td>Jai</td>\n",
              "      <td>22</td>\n",
              "      <td>Allahabad</td>\n",
              "      <td>MCA</td>\n",
              "    </tr>\n",
              "    <tr>\n",
              "      <th>3</th>\n",
              "      <td>Princi</td>\n",
              "      <td>32</td>\n",
              "      <td>Kannuaj</td>\n",
              "      <td>Phd</td>\n",
              "    </tr>\n",
              "    <tr>\n",
              "      <th>4</th>\n",
              "      <td>Gaurav</td>\n",
              "      <td>33</td>\n",
              "      <td>Jaunpur</td>\n",
              "      <td>B.Tech</td>\n",
              "    </tr>\n",
              "    <tr>\n",
              "      <th>5</th>\n",
              "      <td>Anuj</td>\n",
              "      <td>36</td>\n",
              "      <td>Kanpur</td>\n",
              "      <td>B.com</td>\n",
              "    </tr>\n",
              "    <tr>\n",
              "      <th>6</th>\n",
              "      <td>Princi</td>\n",
              "      <td>27</td>\n",
              "      <td>Allahabad</td>\n",
              "      <td>Msc</td>\n",
              "    </tr>\n",
              "    <tr>\n",
              "      <th>7</th>\n",
              "      <td>Abhi</td>\n",
              "      <td>32</td>\n",
              "      <td>Aligarh</td>\n",
              "      <td>MA</td>\n",
              "    </tr>\n",
              "  </tbody>\n",
              "</table>\n",
              "</div>\n",
              "      <button class=\"colab-df-convert\" onclick=\"convertToInteractive('df-5f88c850-c39f-4c57-9579-17d92e004fbc')\"\n",
              "              title=\"Convert this dataframe to an interactive table.\"\n",
              "              style=\"display:none;\">\n",
              "        \n",
              "  <svg xmlns=\"http://www.w3.org/2000/svg\" height=\"24px\"viewBox=\"0 0 24 24\"\n",
              "       width=\"24px\">\n",
              "    <path d=\"M0 0h24v24H0V0z\" fill=\"none\"/>\n",
              "    <path d=\"M18.56 5.44l.94 2.06.94-2.06 2.06-.94-2.06-.94-.94-2.06-.94 2.06-2.06.94zm-11 1L8.5 8.5l.94-2.06 2.06-.94-2.06-.94L8.5 2.5l-.94 2.06-2.06.94zm10 10l.94 2.06.94-2.06 2.06-.94-2.06-.94-.94-2.06-.94 2.06-2.06.94z\"/><path d=\"M17.41 7.96l-1.37-1.37c-.4-.4-.92-.59-1.43-.59-.52 0-1.04.2-1.43.59L10.3 9.45l-7.72 7.72c-.78.78-.78 2.05 0 2.83L4 21.41c.39.39.9.59 1.41.59.51 0 1.02-.2 1.41-.59l7.78-7.78 2.81-2.81c.8-.78.8-2.07 0-2.86zM5.41 20L4 18.59l7.72-7.72 1.47 1.35L5.41 20z\"/>\n",
              "  </svg>\n",
              "      </button>\n",
              "      \n",
              "  <style>\n",
              "    .colab-df-container {\n",
              "      display:flex;\n",
              "      flex-wrap:wrap;\n",
              "      gap: 12px;\n",
              "    }\n",
              "\n",
              "    .colab-df-convert {\n",
              "      background-color: #E8F0FE;\n",
              "      border: none;\n",
              "      border-radius: 50%;\n",
              "      cursor: pointer;\n",
              "      display: none;\n",
              "      fill: #1967D2;\n",
              "      height: 32px;\n",
              "      padding: 0 0 0 0;\n",
              "      width: 32px;\n",
              "    }\n",
              "\n",
              "    .colab-df-convert:hover {\n",
              "      background-color: #E2EBFA;\n",
              "      box-shadow: 0px 1px 2px rgba(60, 64, 67, 0.3), 0px 1px 3px 1px rgba(60, 64, 67, 0.15);\n",
              "      fill: #174EA6;\n",
              "    }\n",
              "\n",
              "    [theme=dark] .colab-df-convert {\n",
              "      background-color: #3B4455;\n",
              "      fill: #D2E3FC;\n",
              "    }\n",
              "\n",
              "    [theme=dark] .colab-df-convert:hover {\n",
              "      background-color: #434B5C;\n",
              "      box-shadow: 0px 1px 3px 1px rgba(0, 0, 0, 0.15);\n",
              "      filter: drop-shadow(0px 1px 2px rgba(0, 0, 0, 0.3));\n",
              "      fill: #FFFFFF;\n",
              "    }\n",
              "  </style>\n",
              "\n",
              "      <script>\n",
              "        const buttonEl =\n",
              "          document.querySelector('#df-5f88c850-c39f-4c57-9579-17d92e004fbc button.colab-df-convert');\n",
              "        buttonEl.style.display =\n",
              "          google.colab.kernel.accessAllowed ? 'block' : 'none';\n",
              "\n",
              "        async function convertToInteractive(key) {\n",
              "          const element = document.querySelector('#df-5f88c850-c39f-4c57-9579-17d92e004fbc');\n",
              "          const dataTable =\n",
              "            await google.colab.kernel.invokeFunction('convertToInteractive',\n",
              "                                                     [key], {});\n",
              "          if (!dataTable) return;\n",
              "\n",
              "          const docLinkHtml = 'Like what you see? Visit the ' +\n",
              "            '<a target=\"_blank\" href=https://colab.research.google.com/notebooks/data_table.ipynb>data table notebook</a>'\n",
              "            + ' to learn more about interactive tables.';\n",
              "          element.innerHTML = '';\n",
              "          dataTable['output_type'] = 'display_data';\n",
              "          await google.colab.output.renderOutput(dataTable, element);\n",
              "          const docLink = document.createElement('div');\n",
              "          docLink.innerHTML = docLinkHtml;\n",
              "          element.appendChild(docLink);\n",
              "        }\n",
              "      </script>\n",
              "    </div>\n",
              "  </div>\n",
              "  "
            ]
          },
          "metadata": {}
        },
        {
          "output_type": "stream",
          "name": "stdout",
          "text": [
            "After Creating Groups\n"
          ]
        },
        {
          "output_type": "execute_result",
          "data": {
            "text/plain": [
              "        Age  Address Qualification\n",
              "Name                              \n",
              "Abhi     32  Aligarh            MA\n",
              "Anuj     24   Kanpur            MA\n",
              "Gaurav   33  Jaunpur        B.Tech\n",
              "Jai      27   Nagpur           Msc\n",
              "Princi   32  Kannuaj           Phd"
            ],
            "text/html": [
              "\n",
              "  <div id=\"df-0ca29b8a-70b8-4540-9d28-a0c06ee973e9\">\n",
              "    <div class=\"colab-df-container\">\n",
              "      <div>\n",
              "<style scoped>\n",
              "    .dataframe tbody tr th:only-of-type {\n",
              "        vertical-align: middle;\n",
              "    }\n",
              "\n",
              "    .dataframe tbody tr th {\n",
              "        vertical-align: top;\n",
              "    }\n",
              "\n",
              "    .dataframe thead th {\n",
              "        text-align: right;\n",
              "    }\n",
              "</style>\n",
              "<table border=\"1\" class=\"dataframe\">\n",
              "  <thead>\n",
              "    <tr style=\"text-align: right;\">\n",
              "      <th></th>\n",
              "      <th>Age</th>\n",
              "      <th>Address</th>\n",
              "      <th>Qualification</th>\n",
              "    </tr>\n",
              "    <tr>\n",
              "      <th>Name</th>\n",
              "      <th></th>\n",
              "      <th></th>\n",
              "      <th></th>\n",
              "    </tr>\n",
              "  </thead>\n",
              "  <tbody>\n",
              "    <tr>\n",
              "      <th>Abhi</th>\n",
              "      <td>32</td>\n",
              "      <td>Aligarh</td>\n",
              "      <td>MA</td>\n",
              "    </tr>\n",
              "    <tr>\n",
              "      <th>Anuj</th>\n",
              "      <td>24</td>\n",
              "      <td>Kanpur</td>\n",
              "      <td>MA</td>\n",
              "    </tr>\n",
              "    <tr>\n",
              "      <th>Gaurav</th>\n",
              "      <td>33</td>\n",
              "      <td>Jaunpur</td>\n",
              "      <td>B.Tech</td>\n",
              "    </tr>\n",
              "    <tr>\n",
              "      <th>Jai</th>\n",
              "      <td>27</td>\n",
              "      <td>Nagpur</td>\n",
              "      <td>Msc</td>\n",
              "    </tr>\n",
              "    <tr>\n",
              "      <th>Princi</th>\n",
              "      <td>32</td>\n",
              "      <td>Kannuaj</td>\n",
              "      <td>Phd</td>\n",
              "    </tr>\n",
              "  </tbody>\n",
              "</table>\n",
              "</div>\n",
              "      <button class=\"colab-df-convert\" onclick=\"convertToInteractive('df-0ca29b8a-70b8-4540-9d28-a0c06ee973e9')\"\n",
              "              title=\"Convert this dataframe to an interactive table.\"\n",
              "              style=\"display:none;\">\n",
              "        \n",
              "  <svg xmlns=\"http://www.w3.org/2000/svg\" height=\"24px\"viewBox=\"0 0 24 24\"\n",
              "       width=\"24px\">\n",
              "    <path d=\"M0 0h24v24H0V0z\" fill=\"none\"/>\n",
              "    <path d=\"M18.56 5.44l.94 2.06.94-2.06 2.06-.94-2.06-.94-.94-2.06-.94 2.06-2.06.94zm-11 1L8.5 8.5l.94-2.06 2.06-.94-2.06-.94L8.5 2.5l-.94 2.06-2.06.94zm10 10l.94 2.06.94-2.06 2.06-.94-2.06-.94-.94-2.06-.94 2.06-2.06.94z\"/><path d=\"M17.41 7.96l-1.37-1.37c-.4-.4-.92-.59-1.43-.59-.52 0-1.04.2-1.43.59L10.3 9.45l-7.72 7.72c-.78.78-.78 2.05 0 2.83L4 21.41c.39.39.9.59 1.41.59.51 0 1.02-.2 1.41-.59l7.78-7.78 2.81-2.81c.8-.78.8-2.07 0-2.86zM5.41 20L4 18.59l7.72-7.72 1.47 1.35L5.41 20z\"/>\n",
              "  </svg>\n",
              "      </button>\n",
              "      \n",
              "  <style>\n",
              "    .colab-df-container {\n",
              "      display:flex;\n",
              "      flex-wrap:wrap;\n",
              "      gap: 12px;\n",
              "    }\n",
              "\n",
              "    .colab-df-convert {\n",
              "      background-color: #E8F0FE;\n",
              "      border: none;\n",
              "      border-radius: 50%;\n",
              "      cursor: pointer;\n",
              "      display: none;\n",
              "      fill: #1967D2;\n",
              "      height: 32px;\n",
              "      padding: 0 0 0 0;\n",
              "      width: 32px;\n",
              "    }\n",
              "\n",
              "    .colab-df-convert:hover {\n",
              "      background-color: #E2EBFA;\n",
              "      box-shadow: 0px 1px 2px rgba(60, 64, 67, 0.3), 0px 1px 3px 1px rgba(60, 64, 67, 0.15);\n",
              "      fill: #174EA6;\n",
              "    }\n",
              "\n",
              "    [theme=dark] .colab-df-convert {\n",
              "      background-color: #3B4455;\n",
              "      fill: #D2E3FC;\n",
              "    }\n",
              "\n",
              "    [theme=dark] .colab-df-convert:hover {\n",
              "      background-color: #434B5C;\n",
              "      box-shadow: 0px 1px 3px 1px rgba(0, 0, 0, 0.15);\n",
              "      filter: drop-shadow(0px 1px 2px rgba(0, 0, 0, 0.3));\n",
              "      fill: #FFFFFF;\n",
              "    }\n",
              "  </style>\n",
              "\n",
              "      <script>\n",
              "        const buttonEl =\n",
              "          document.querySelector('#df-0ca29b8a-70b8-4540-9d28-a0c06ee973e9 button.colab-df-convert');\n",
              "        buttonEl.style.display =\n",
              "          google.colab.kernel.accessAllowed ? 'block' : 'none';\n",
              "\n",
              "        async function convertToInteractive(key) {\n",
              "          const element = document.querySelector('#df-0ca29b8a-70b8-4540-9d28-a0c06ee973e9');\n",
              "          const dataTable =\n",
              "            await google.colab.kernel.invokeFunction('convertToInteractive',\n",
              "                                                     [key], {});\n",
              "          if (!dataTable) return;\n",
              "\n",
              "          const docLinkHtml = 'Like what you see? Visit the ' +\n",
              "            '<a target=\"_blank\" href=https://colab.research.google.com/notebooks/data_table.ipynb>data table notebook</a>'\n",
              "            + ' to learn more about interactive tables.';\n",
              "          element.innerHTML = '';\n",
              "          dataTable['output_type'] = 'display_data';\n",
              "          await google.colab.output.renderOutput(dataTable, element);\n",
              "          const docLink = document.createElement('div');\n",
              "          docLink.innerHTML = docLinkHtml;\n",
              "          element.appendChild(docLink);\n",
              "        }\n",
              "      </script>\n",
              "    </div>\n",
              "  </div>\n",
              "  "
            ]
          },
          "metadata": {},
          "execution_count": 14
        }
      ]
    },
    {
      "cell_type": "markdown",
      "source": [
        "Pandas Aggregation\n",
        "df = pd.DataFrame(data1)\n",
        "  \n",
        "# performing aggregation using\n",
        "# aggregate method\n",
        "  \n",
        "grp1 = df.groupby('Name')\n",
        "  \n",
        "grp1.aggregate(np.sum)\n",
        "\n"
      ],
      "metadata": {
        "id": "zHJbMsDGadce"
      }
    },
    {
      "cell_type": "markdown",
      "source": [
        "Merging DataFrame -  merge() -\n",
        "Joins can only be done on two DataFrames at a time, denoted as left and right tables\n"
      ],
      "metadata": {
        "id": "zuHY8sUva2vf"
      }
    },
    {
      "cell_type": "code",
      "source": [
        "# importing pandas module\n",
        "import pandas as pd \n",
        "   \n",
        "# Define a dictionary containing employee data \n",
        "data1 = {'key': ['K0', 'K1', 'K2', 'K3'],\n",
        "         'Name':['Jai', 'Princi', 'Gaurav', 'Anuj'], \n",
        "        'Age':[27, 24, 22, 32],} \n",
        "     \n",
        "# Define a dictionary containing employee data \n",
        "data2 = {'key': ['K0', 'K1', 'K2', 'K3'],\n",
        "         'Address':['Nagpur', 'Kanpur', 'Allahabad', 'Kannuaj'], \n",
        "        'Qualification':['Btech', 'B.A', 'Bcom', 'B.hons']} \n",
        "   \n",
        "# Convert the dictionary into DataFrame  \n",
        "df = pd.DataFrame(data1)\n",
        "   \n",
        "# Convert the dictionary into DataFrame  \n",
        "df1 = pd.DataFrame(data2) \n",
        "    \n",
        "  \n",
        "display(df, df1) \n",
        "  \n",
        "# using .merge() function\n",
        "res = pd.merge(df, df1, on='key')\n",
        "   \n",
        "res\n",
        "\n",
        "# joining dataframe\n",
        "#res = df.join(df1)"
      ],
      "metadata": {
        "id": "JEAKU3YBbh1P"
      },
      "execution_count": null,
      "outputs": []
    },
    {
      "cell_type": "markdown",
      "source": [
        "Visualization with Matplotlib"
      ],
      "metadata": {
        "id": "FTDGhG8EctN7"
      }
    },
    {
      "cell_type": "markdown",
      "source": [
        "Pyplot\n",
        "\n",
        "Pyplot provides functions that interact with the figure"
      ],
      "metadata": {
        "id": "_rgQVhfe7hdj"
      }
    },
    {
      "cell_type": "code",
      "source": [
        "import matplotlib.pyplot as plt\n",
        "import pandas as pd\n",
        "  \n",
        "df = pd.read_csv(\"Iris.csv\")\n",
        "  \n",
        "# This will plot a simple bar,histogram, scatter chart\n",
        "plt.bar(df['Species'], df['SepalLengthCm'])\n",
        "plt.hist(df[\"SepalLengthCm\"])\n",
        "plt.scatter(df[\"Species\"], df[\"SepalLengthCm\"])\n",
        "  \n",
        "# Title to the plot\n",
        "plt.title(\"Iris Dataset\")\n",
        "  \n",
        "# Adding the legends\n",
        "plt.legend([\"bar\"])\n",
        "plt.show()"
      ],
      "metadata": {
        "id": "drMyCs9UwLKz"
      },
      "execution_count": null,
      "outputs": []
    }
  ]
}